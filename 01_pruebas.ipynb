{
 "cells": [
  {
   "cell_type": "markdown",
   "metadata": {},
   "source": [
    "## Web Scraping con Python\n",
    "\n",
    "El web scraping, también conocido como extracción de datos web, es el proceso de recopilar información de sitios web, páginas web o documentos en línea de manera automática. En otras palabras, se trata de extraer datos de una página web sin la necesidad de interactuar con ella manualmente."
   ]
  },
  {
   "cell_type": "markdown",
   "metadata": {},
   "source": [
    "En Python, el web scraping se logra utilizando bibliotecas como requests y BeautifulSoup.\n",
    "\n",
    "La biblioteca requests se utiliza para enviar solicitudes HTTP a un sitio web, mientras que la biblioteca BeautifulSoup se utiliza para analizar el HTML o XML de respuesta."
   ]
  },
  {
   "cell_type": "markdown",
   "metadata": {},
   "source": [
    "### Cómo funciona\n",
    "\n",
    "##### * Enviar solicitud HTTP: Se envía una solicitud HTTP (como GET o POST) a un sitio web utilizando la biblioteca requests.\n",
    "\n",
    "##### * Recibir respuesta: El sitio web responde con un código HTML o XML que contiene la información solicitada.\n",
    "\n",
    "##### * Analizar respuesta: La biblioteca BeautifulSoup analiza el código HTML o XML de respuesta y lo convierte en un objeto que puede ser fácilmente navegado y manipulado.\n",
    "\n",
    "##### * Extraer datos: Se extraen los datos deseados del objeto analizado utilizando métodos y funciones proporcionadas por BeautifulSoup."
   ]
  },
  {
   "cell_type": "markdown",
   "metadata": {},
   "source": [
    "https://quotes.toscrape.com/"
   ]
  },
  {
   "cell_type": "markdown",
   "metadata": {},
   "source": [
    "https://es.wikipedia.org/wiki/Modelo_OSI"
   ]
  },
  {
   "cell_type": "markdown",
   "metadata": {},
   "source": [
    "Selenium\n",
    "\n",
    "Gradio\n"
   ]
  },
  {
   "cell_type": "markdown",
   "metadata": {},
   "source": [
    "#### Qué es una solicitud HTTP: y para qué sirve?\n",
    "\n",
    "Una solicitud HTTP (Hypertext Transfer Protocol) es una petición que se envía desde un cliente (generalmente un navegador web) a un servidor para solicitar un recurso o realizar una acción específica en el servidor.\n",
    "\n",
    "Las solicitudes HTTP se utilizan para interactuar con los servidores web y obtener respuestas que contengan información o recursos solicitados. Algunos ejemplos de acciones que se pueden realizar mediante solicitudes HTTP son:\n",
    "\n",
    "* Obtener un archivo o recurso del servidor (GET)\n",
    "* Enviar datos al servidor para crear un nuevo recurso (POST)\n",
    "* Actualizar un recurso existente en el servidor (PUT)\n",
    "* Eliminar un recurso del servidor (DELETE)\n",
    "\n",
    "\n",
    "Las solicitudes HTTP constan de los siguientes elementos:\n",
    "\n",
    "* Método HTTP (GET, POST, PUT, DELETE, etc.)\n",
    "* URL del recurso solicitado\n",
    "* Cabecera (header) con información adicional como tipo de contenido, autenticación, etc.\n",
    "Cuerpo (body) con datos adicionales para el servidor (opcional)\n",
    "* El servidor procesa la solicitud y devuelve una respuesta HTTP que contiene el recurso solicitado o un mensaje de error si no se puede cumplir con la solicitud."
   ]
  },
  {
   "cell_type": "code",
   "execution_count": 2,
   "metadata": {},
   "outputs": [
    {
     "ename": "SyntaxError",
     "evalue": "invalid syntax (2100786148.py, line 1)",
     "output_type": "error",
     "traceback": [
      "\u001b[1;36m  Cell \u001b[1;32mIn[2], line 1\u001b[1;36m\u001b[0m\n\u001b[1;33m    https://quotes.toscrape.com/\u001b[0m\n\u001b[1;37m          ^\u001b[0m\n\u001b[1;31mSyntaxError\u001b[0m\u001b[1;31m:\u001b[0m invalid syntax\n"
     ]
    }
   ],
   "source": [
    "import requests\n",
    "\n",
    "url_web='https://quotes.toscrape.com/'\n",
    "\n",
    "response=requests.get"
   ]
  },
  {
   "cell_type": "markdown",
   "metadata": {},
   "source": [
    "En la biblioteca ***requests***, el método **get** es un método de la clase ***Session***, que es la clase principal de la biblioteca. \n",
    "La clase Session se utiliza para enviar solicitudes HTTP y manejar las conexiones con el servidor.\n",
    "\n",
    "El método ***get*** toma una URL como parámetro y devuelve un objeto \"Response\" que contiene la respuesta del servidor. \n",
    "\n",
    "* El objeto Response tiene varios atributos y métodos que se pueden utilizar para acceder a la respuesta del servidor, como el código de estado, los headers, el contenido, etc.\n",
    "\n"
   ]
  }
 ],
 "metadata": {
  "kernelspec": {
   "display_name": "Python 3",
   "language": "python",
   "name": "python3"
  },
  "language_info": {
   "codemirror_mode": {
    "name": "ipython",
    "version": 3
   },
   "file_extension": ".py",
   "mimetype": "text/x-python",
   "name": "python",
   "nbconvert_exporter": "python",
   "pygments_lexer": "ipython3",
   "version": "3.12.1"
  }
 },
 "nbformat": 4,
 "nbformat_minor": 2
}
