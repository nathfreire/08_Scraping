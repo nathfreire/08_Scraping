{
 "cells": [
  {
   "cell_type": "markdown",
   "metadata": {},
   "source": [
    "## Web Scraping con Python\n",
    "\n",
    "El web scraping, también conocido como extracción de datos web, es el proceso de recopilar información de sitios web, páginas web o documentos en línea de manera automática. En otras palabras, se trata de extraer datos de una página web sin la necesidad de interactuar con ella manualmente."
   ]
  },
  {
   "cell_type": "markdown",
   "metadata": {},
   "source": [
    "En Python, el web scraping se logra utilizando bibliotecas como requests y BeautifulSoup.\n",
    "\n",
    "La biblioteca requests se utiliza para enviar solicitudes HTTP a un sitio web, mientras que la biblioteca BeautifulSoup se utiliza para analizar el HTML o XML de respuesta."
   ]
  },
  {
   "cell_type": "markdown",
   "metadata": {},
   "source": [
    "### Cómo funciona\n",
    "\n",
    "##### * Enviar solicitud HTTP: Se envía una solicitud HTTP (como GET o POST) a un sitio web utilizando la biblioteca requests.\n",
    "\n",
    "##### * Recibir respuesta: El sitio web responde con un código HTML o XML que contiene la información solicitada.\n",
    "\n",
    "##### * Analizar respuesta: La biblioteca BeautifulSoup analiza el código HTML o XML de respuesta y lo convierte en un objeto que puede ser fácilmente navegado y manipulado.\n",
    "\n",
    "##### * Extraer datos: Se extraen los datos deseados del objeto analizado utilizando métodos y funciones proporcionadas por BeautifulSoup."
   ]
  },
  {
   "cell_type": "markdown",
   "metadata": {},
   "source": [
    "https://quotes.toscrape.com/"
   ]
  },
  {
   "cell_type": "markdown",
   "metadata": {},
   "source": [
    "https://es.wikipedia.org/wiki/Modelo_OSI"
   ]
  },
  {
   "cell_type": "markdown",
   "metadata": {},
   "source": [
    "Selenium\n",
    "\n",
    "Gradio\n"
   ]
  },
  {
   "cell_type": "markdown",
   "metadata": {},
   "source": [
    "#### Qué es una solicitud HTTP: y para qué sirve?\n",
    "\n",
    "Una solicitud HTTP (Hypertext Transfer Protocol) es una petición que se envía desde un cliente (generalmente un navegador web) a un servidor para solicitar un recurso o realizar una acción específica en el servidor.\n",
    "\n",
    "Las solicitudes HTTP se utilizan para interactuar con los servidores web y obtener respuestas que contengan información o recursos solicitados. Algunos ejemplos de acciones que se pueden realizar mediante solicitudes HTTP son:\n",
    "\n",
    "* Obtener un archivo o recurso del servidor (GET)\n",
    "* Enviar datos al servidor para crear un nuevo recurso (POST)\n",
    "* Actualizar un recurso existente en el servidor (PUT)\n",
    "* Eliminar un recurso del servidor (DELETE)\n",
    "\n",
    "(Cada método se utiliza para enviar una solicitud HTTP específica al servidor)\n",
    "\n",
    "\n",
    "\n",
    "Las solicitudes HTTP constan de los siguientes elementos:\n",
    "\n",
    "* Método HTTP (GET, POST, PUT, DELETE, etc.)\n",
    "* URL del recurso solicitado\n",
    "* Cabecera (header) con información adicional como tipo de contenido, autenticación, etc.\n",
    "Cuerpo (body) con datos adicionales para el servidor (opcional)\n",
    "* El servidor procesa la solicitud y devuelve una respuesta HTTP que contiene el recurso solicitado o un mensaje de error si no se puede cumplir con la solicitud."
   ]
  },
  {
   "cell_type": "code",
   "execution_count": null,
   "metadata": {},
   "outputs": [],
   "source": [
    "import requests\n",
    "\n",
    "url_web='https://quotes.toscrape.com/'\n",
    "\n",
    "response=requests.get(url_web)\n",
    "\n",
    "print(response.status_code)  # Código de estado de la respuesta\n",
    "print(response.text) # Contenido de la respuesta"
   ]
  },
  {
   "cell_type": "markdown",
   "metadata": {},
   "source": [
    "En la biblioteca ***requests***, el método **get** es un método de la clase ***Session***, que es la clase principal de la biblioteca. \n",
    "La clase Session se utiliza para enviar solicitudes HTTP y manejar las conexiones con el servidor.\n",
    "\n",
    "El método ***get*** toma una URL como parámetro y devuelve un objeto \"Response\" que contiene la respuesta del servidor. \n",
    "\n",
    "* El objeto Response tiene varios atributos y métodos que se pueden utilizar para acceder a la respuesta del servidor, como el código de estado, los headers, el contenido, etc.\n",
    "\n"
   ]
  },
  {
   "cell_type": "markdown",
   "metadata": {},
   "source": [
    "#### Analizar respuesta\n",
    "En realidad, en este paso lo que se  va a hacer es un análisis del código HTML.\n",
    "En mi caso, usaré **BeautifulSoup**, que es una biblioteca de parsing que analizará el códigO HTML recibido y lo convierte en un objeto con el que se podrá trabajar."
   ]
  },
  {
   "cell_type": "code",
   "execution_count": null,
   "metadata": {},
   "outputs": [],
   "source": [
    "from bs4 import BeautifulSoup\n",
    "\n",
    "soup=BeautifulSoup(response.text, 'html.parser')\n"
   ]
  },
  {
   "cell_type": "markdown",
   "metadata": {},
   "source": [
    "'BeautifulSoup' es una clase.\n",
    "\n",
    "Se crea el objeto **BeautifulSoup** y se guarda en la variable 'soup'.\n",
    "\n",
    "El constructor de BeautifulSoup toma 2 argumentos:\n",
    "* 'response.text':que es el contenido HTML de la página web, que se obtiene mediante la solicitud GET realizada con **requests**.\n",
    "\n",
    "* 'html.parser': El parser (analizador) que se utilizará para analizar el contenido HTML. En este caso, se utiliza el parser **html.parser** que viene incluido con Python."
   ]
  },
  {
   "cell_type": "markdown",
   "metadata": {},
   "source": [
    "Coge todo el texto"
   ]
  },
  {
   "cell_type": "code",
   "execution_count": null,
   "metadata": {},
   "outputs": [],
   "source": [
    "phrases=soup.find_all('span')\n",
    "\n",
    "for i in phrases:\n",
    "    print(i.text)\n",
    "    "
   ]
  },
  {
   "cell_type": "markdown",
   "metadata": {},
   "source": [
    "Coge sólo la frase"
   ]
  },
  {
   "cell_type": "code",
   "execution_count": null,
   "metadata": {},
   "outputs": [],
   "source": [
    "frases_1=soup.find_all('span',class_=\"text\")\n",
    "\n",
    "#Al especificar el nombre del elemento, como en find('span', class_='text'), se está restringiendo la búsqueda a elementos <span> que tengan la clase text.\n",
    "\n",
    "for i in frases_1:\n",
    "    print(i.text)"
   ]
  },
  {
   "cell_type": "markdown",
   "metadata": {},
   "source": [
    "Creo una función que haga eso"
   ]
  },
  {
   "cell_type": "code",
   "execution_count": null,
   "metadata": {},
   "outputs": [],
   "source": [
    "#Al especificar el nombre del elemento, como en find('span', class_='text'), se está restringiendo la búsqueda a elementos <span> que tengan la clase text.\n",
    "\"\"\" \n",
    "frases_1=soup.find_all('span',class_=\"text\") \n",
    "list_phrases=[]\n",
    "\n",
    "for i in frases_1:\n",
    "    list_phrases.append(i.text)\n",
    "print(list_phrases) \"\"\"\n",
    "\n",
    "def listing_phrases(soup):\n",
    "    list_phrases=[]\n",
    "    frases_1=soup.find_all('span',class_=\"text\") \n",
    "\n",
    "    for i in frases_1:\n",
    "        list_phrases.append(i.text.strip('“”')) #son comillas inglesas alt+0147, alt+0148\n",
    "\n",
    "    return list_phrases\n",
    "\n",
    "    \n",
    "print(listing_phrases(soup))"
   ]
  },
  {
   "cell_type": "markdown",
   "metadata": {},
   "source": [
    "for phrase in (listing_phrases(soup)):\n",
    "    phrase_without_quotes = phrase.strip('“”')\n",
    "    \n",
    " \n",
    "    print(phrase_without_quotes)"
   ]
  },
  {
   "cell_type": "markdown",
   "metadata": {},
   "source": [
    "Coge sólo el autor"
   ]
  },
  {
   "cell_type": "code",
   "execution_count": null,
   "metadata": {},
   "outputs": [],
   "source": [
    "def listing_authors(soup):\n",
    "    authors=soup.find_all('small',class_=\"author\")\n",
    "    list_authors=[]\n",
    "    for i in authors:\n",
    "        list_authors.append(i.text)\n",
    "        \n",
    "    return list_authors\n",
    "print(listing_authors(soup))"
   ]
  },
  {
   "cell_type": "markdown",
   "metadata": {},
   "source": [
    "Coge sólo los enlaces ligados a 'about'\n",
    "\n",
    "Pero sucede que el link no está completo, falta la página principal https://quotes.toscrape.com/\n",
    "Para lo cual hago una concatenación"
   ]
  },
  {
   "cell_type": "code",
   "execution_count": null,
   "metadata": {},
   "outputs": [],
   "source": [
    "def listing_links(soup):\n",
    "    links=[a['href'] for a in soup.find_all('a', string=lambda t: t and '(about)' in t)] #buscar todos los enlaces ('a' tags) que contienen la palabra 'about' en su texto. Sustituí el parámetro 'text'= por 'string'=\n",
    "\n",
    "    list_links=[]\n",
    "    for i in links:\n",
    "        list_links.append(url_web+i) #hago una concatenación con la url principal\n",
    "\n",
    "    return list_links\n",
    "print(listing_links(soup))\n"
   ]
  },
  {
   "cell_type": "code",
   "execution_count": null,
   "metadata": {},
   "outputs": [],
   "source": [
    "#Creo listas vacías para luego rellenarlas con un bucle\n",
    "authors=[]\n",
    "phrase=[]\n",
    "more=[]\n",
    "\n",
    "for i in phrases: #Iteramos el objeto\n",
    "    all_text=i.text.strip()#El objeto tiene el atributo .text que guarda el texto entero de span, incluyendo 'by' y 'about'\n",
    "    #print(all_text)\n",
    "    if 'by' in all_text: #evalúas si hay 'by' en el texto\n",
    "        author=all_text.split('by')[1].strip()\n",
    "        #split('by') devuelve una lista de 2 elementos -->['', ' Albert Einstein\\n(about)']\n",
    "        #como quiero el autor, me quedo con el elemento de ubicación [1]\n",
    "        #pero me incluye el salto de línea y el 'about'\n",
    "        print(author)\n",
    "            \n",
    "\"\"\"         one_phrase = all_text[0].strip()\n",
    "        print(one_phrase) \"\"\""
   ]
  },
  {
   "cell_type": "markdown",
   "metadata": {},
   "source": [
    "Mediante una función creo un dataframe con esas listas\n",
    "\n",
    "Sería OK ponerle una máscara"
   ]
  },
  {
   "cell_type": "code",
   "execution_count": null,
   "metadata": {},
   "outputs": [],
   "source": [
    "import pandas as pd\n",
    "def create_df(list_phrases, list_authors,list_links):\n",
    "    \n",
    "    #Creo un diccionario con las listas\n",
    "    dic_lists={'phrases':list_phrases,'author':list_authors, 'about':list_links}\n",
    "    df=pd.DataFrame(dic_lists)\n",
    "    \n",
    "    \n",
    "    return df\n",
    "print(create_df(listing_phrases(soup), listing_authors(soup),listing_links(soup)))"
   ]
  },
  {
   "cell_type": "markdown",
   "metadata": {},
   "source": [
    "Guardar el df en un csv con encabezados"
   ]
  },
  {
   "cell_type": "code",
   "execution_count": null,
   "metadata": {},
   "outputs": [],
   "source": [
    "import csv\n",
    "path='C:/4_F5/08_webs'\n",
    "create_df(listing_phrases(soup), listing_authors(soup),listing_links(soup)).to_csv(path+'\\\\dataframe.csv',index=True,header='True', sep=';',encoding='utf-8-sig') # en vez de 'utf-8'"
   ]
  },
  {
   "cell_type": "markdown",
   "metadata": {},
   "source": [
    "----------------------------- Hasta aquí traje los datos ------------------------------------"
   ]
  },
  {
   "cell_type": "code",
   "execution_count": null,
   "metadata": {},
   "outputs": [],
   "source": [
    "#print(df.to_string(index=False))\n",
    "\n",
    "print(create_df(listing_phrases(soup), listing_authors(soup),listing_links(soup)).to_string(index=False, header=True,justify='left', max_colwidth=100,col_space=20, formatters={'phrases': lambda x: x.replace('\"', '')}))"
   ]
  },
  {
   "cell_type": "code",
   "execution_count": null,
   "metadata": {},
   "outputs": [],
   "source": [
    "import pandas as pd\n",
    "\n",
    "# Crea el dataframe\n",
    "df = pd.DataFrame({\n",
    "    'phrases': [\n",
    "        \"The world as we have created it is a process of our thinking. It cannot be changed without changing our thinking.\",\n",
    "        \"It is our choices, Harry, that show what we truly are, far more than our abilities.\",\n",
    "        \"There are only two ways to live your life. One is as though nothing is a miracle. The other is as though everything is a miracle.\",\n",
    "        \"The person, be it gentleman or lady, who has not pleasure in a good novel, must be intolerably stupid.\",\n",
    "        \"Imperfection is beauty, madness is genius and it's better to be absolutely ridiculous than absolutely boring.\",\n",
    "        \"Try not to become a man of success. Rather become a man of value.\",\n",
    "        \"It is better to be hated for what you are than to be loved for what you are not.\",\n",
    "        \"I have not failed. I've just found 10,000 ways that won't work.\",\n",
    "        \"A woman is like a tea bag; you never know how strong it is until it's in hot water.\",\n",
    "        \"A day without sunshine is like, you know, night.\"\n",
    "    ],\n",
    "    'author': [\n",
    "        \"Albert Einstein\",\n",
    "        \"J.K. Rowling\",\n",
    "        \"Albert Einstein\",\n",
    "        \"Jane Austen\",\n",
    "        \"Marilyn Monroe\",\n",
    "        \"Albert Einstein\",\n",
    "        \"André Gide\",\n",
    "        \"Thomas A. Edison\",\n",
    "        \"Eleanor Roosevelt\",\n",
    "        \"Steve Martin\"\n",
    "    ],\n",
    "    'about': [\n",
    "        \"https://quotes.toscrape.com//author/Albert-Einstein\",\n",
    "        \"https://quotes.toscrape.com//author/J-K-Rowling\",\n",
    "        \"https://quotes.toscrape.com//author/Albert-Einstein\",\n",
    "        \"https://quotes.toscrape.com//author/Jane-Austen\",\n",
    "        \"https://quotes.toscrape.com//author/Marilyn-Monroe\",\n",
    "        \"https://quotes.toscrape.com//author/Albert-Einstein\",\n",
    "        \"https://quotes.toscrape.com//author/Andre-Gide\",\n",
    "        \"https://quotes.toscrape.com//author/Thomas-A-Edison\",\n",
    "        \"https://quotes.toscrape.com//author/Eleanor-Roosevelt\",\n",
    "        \"https://quotes.toscrape.com//author/Steve-Martin\"\n",
    "    ]\n",
    "})\n",
    "\n",
    "# Imprime el dataframe con wrap_text\n",
    "for index, row in df.iterrows():\n",
    "    print(f\"Frases: {row['phrases']}\\nAutor: {row['author']}\\nAcerca de: {row['about']}\\n\")"
   ]
  },
  {
   "cell_type": "markdown",
   "metadata": {},
   "source": [
    "-------------------- Ahora creo las bases de datos con SQL ALCHEMY ---------------------------"
   ]
  }
 ],
 "metadata": {
  "kernelspec": {
   "display_name": "Python 3",
   "language": "python",
   "name": "python3"
  },
  "language_info": {
   "codemirror_mode": {
    "name": "ipython",
    "version": 3
   },
   "file_extension": ".py",
   "mimetype": "text/x-python",
   "name": "python",
   "nbconvert_exporter": "python",
   "pygments_lexer": "ipython3",
   "version": "3.12.1"
  }
 },
 "nbformat": 4,
 "nbformat_minor": 2
}
