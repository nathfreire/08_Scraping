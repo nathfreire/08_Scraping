{
 "cells": [
  {
   "cell_type": "markdown",
   "metadata": {},
   "source": [
    "## Web Scraping con Python\n",
    "\n",
    "El web scraping, también conocido como extracción de datos web, es el proceso de recopilar información de sitios web, páginas web o documentos en línea de manera automática. En otras palabras, se trata de extraer datos de una página web sin la necesidad de interactuar con ella manualmente."
   ]
  },
  {
   "cell_type": "markdown",
   "metadata": {},
   "source": [
    "En Python, el web scraping se logra utilizando bibliotecas como requests y BeautifulSoup.\n",
    "\n",
    "La biblioteca requests se utiliza para enviar solicitudes HTTP a un sitio web, mientras que la biblioteca BeautifulSoup se utiliza para analizar el HTML o XML de respuesta."
   ]
  },
  {
   "cell_type": "markdown",
   "metadata": {},
   "source": [
    "### Cómo funciona\n",
    "\n",
    "Enviar solicitud HTTP: Se envía una solicitud HTTP (como GET o POST) a un sitio web utilizando la biblioteca requests.\n",
    "\n",
    "Recibir respuesta: El sitio web responde con un código HTML o XML que contiene la información solicitada.\n",
    "\n",
    "Analizar respuesta: La biblioteca BeautifulSoup analiza el código HTML o XML de respuesta y lo convierte en un objeto que puede ser fácilmente navegado y manipulado.\n",
    "\n",
    "Extraer datos: Se extraen los datos deseados del objeto analizado utilizando métodos y funciones proporcionadas por BeautifulSoup."
   ]
  },
  {
   "cell_type": "code",
   "execution_count": null,
   "metadata": {},
   "outputs": [],
   "source": []
  }
 ],
 "metadata": {
  "language_info": {
   "name": "python"
  }
 },
 "nbformat": 4,
 "nbformat_minor": 2
}
